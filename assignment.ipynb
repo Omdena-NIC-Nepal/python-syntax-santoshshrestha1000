{
 "cells": [
  {
   "cell_type": "code",
   "execution_count": 18,
   "metadata": {},
   "outputs": [
    {
     "name": "stdout",
     "output_type": "stream",
     "text": [
      "Hello world.\n"
     ]
    }
   ],
   "source": [
    "print(\"Hello world.\")"
   ]
  },
  {
   "cell_type": "code",
   "execution_count": 20,
   "metadata": {},
   "outputs": [
    {
     "name": "stdout",
     "output_type": "stream",
     "text": [
      "My name is Santosh and my age is 27\n"
     ]
    }
   ],
   "source": [
    "name = str(\"Santosh\")\n",
    "age = int (27)\n",
    "print(f\"My name is {name} and my age is {age}\")"
   ]
  },
  {
   "cell_type": "code",
   "execution_count": 21,
   "metadata": {},
   "outputs": [
    {
     "name": "stdout",
     "output_type": "stream",
     "text": [
      "15 is greater than 5\n"
     ]
    }
   ],
   "source": [
    "num1=15\n",
    "num2=5\n",
    "if num1>num2:\n",
    "    print(f\"{num1} is greater than {num2}\")"
   ]
  },
  {
   "cell_type": "code",
   "execution_count": 73,
   "metadata": {},
   "outputs": [
    {
     "name": "stdout",
     "output_type": "stream",
     "text": [
      "Given number is greater than 10\n"
     ]
    }
   ],
   "source": [
    "#num1= int(input(\"Please enter the number you want to compare with number 10 : \"))\n",
    "num1=15\n",
    "if num1>10:\n",
    "    print(\"Given number is greater than 10\")\n",
    "elif num1<10:\n",
    "    print(\"Given number is lesser than 10\")\n",
    "elif num1==10:\n",
    "    print(\"Given number is equal to 10\")\n",
    "else:\n",
    "    print(\"Given could not compare. Thanks\")"
   ]
  },
  {
   "cell_type": "code",
   "execution_count": 42,
   "metadata": {},
   "outputs": [
    {
     "name": "stdout",
     "output_type": "stream",
     "text": [
      "This program will give you the sum of natural numbers from 1 to 10.\n",
      "The sum of natural numbers from 1 to 10 is 55\n"
     ]
    }
   ],
   "source": [
    "print(\"This program will give you the sum of natural numbers from 1 to 10.\")\n",
    "#\n",
    "# n=int(input(\"Please enter the number that you want to calculate sum of numbers from 1 to n using a loop :  \")) \n",
    "sum=0\n",
    "for i in range (1,11):\n",
    "    sum=sum +i\n",
    "print(f\"The sum of natural numbers from 1 to 10 is {sum}\")"
   ]
  },
  {
   "cell_type": "code",
   "execution_count": 43,
   "metadata": {},
   "outputs": [
    {
     "name": "stdout",
     "output_type": "stream",
     "text": [
      "This program will give you the sum of natural numbers from 1 to 10.\n",
      "The sum of natural numbers from 1 to 10 is 55\n"
     ]
    }
   ],
   "source": [
    "print(\"This program will give you the sum of natural numbers from 1 to 10.\")\n",
    "sum=0\n",
    "for i in range (1,11):\n",
    "    sum=sum +i\n",
    "print(f\"The sum of natural numbers from 1 to 10 is {sum}\")"
   ]
  },
  {
   "cell_type": "code",
   "execution_count": 74,
   "metadata": {},
   "outputs": [
    {
     "name": "stdout",
     "output_type": "stream",
     "text": [
      "[1, 2, 3, 4, 5]\n",
      "The total of given numbers is 15\n",
      "The maximun number is the list is 5\n",
      "The minimun number in the list is 1\n",
      "(15, 5, 1)\n"
     ]
    }
   ],
   "source": [
    "numbers=[1,2,3,4,5]\n",
    "print(numbers)\n",
    "total=0\n",
    "for i in numbers:\n",
    "    total = total+i\n",
    "print(f\"The total of given numbers is {total}\")\n",
    "max_num= max(numbers)\n",
    "print(f\"The maximun number is the list is {max_num}\")\n",
    "min_num= min(numbers)\n",
    "print(f\"The minimun number in the list is {min_num}\")\n",
    "print(f\"({total}, {max_num}, {min_num})\")"
   ]
  },
  {
   "cell_type": "code",
   "execution_count": 77,
   "metadata": {},
   "outputs": [
    {
     "name": "stdout",
     "output_type": "stream",
     "text": [
      "{'John': 85, 'Alice': 90, 'Eve': 95}\n"
     ]
    }
   ],
   "source": [
    "students = {\n",
    "        \"John\": 85,\n",
    "        \"Alice\": 90,\n",
    "        \"Bob\": 75,\n",
    "        \"Eve\": 95\n",
    "    }\n",
    "more_than_80={name: val for name, val in students.items() if val>80}\n",
    "print(more_than_80)"
   ]
  },
  {
   "cell_type": "code",
   "execution_count": 78,
   "metadata": {},
   "outputs": [
    {
     "name": "stdout",
     "output_type": "stream",
     "text": [
      "{'Potato', 'Orange'}\n"
     ]
    }
   ],
   "source": [
    "#def set_operations(list1, list2):\n",
    "list1={\"Apple\", \"Mango\", \"Orange\", \"Potato\"}\n",
    "list2={\"Cauliflower\", \"Cabbage\", \"Radish\", \"Potato\", \"Orange\"}\n",
    "common_elem=list1.intersection(list2)\n",
    "print(common_elem)\n",
    "\n",
    "def set_operations(list1, list2):\n",
    "    \"\"\"\n",
    "    Find common elements between two lists.\n",
    "    Args:\n",
    "        list1 (list): First list\n",
    "        list2 (list): Second list\n",
    "    Returns:\n",
    "        set: Common elements\n",
    "    \"\"\"\n",
    "    pass"
   ]
  },
  {
   "cell_type": "code",
   "execution_count": 82,
   "metadata": {},
   "outputs": [
    {
     "name": "stdout",
     "output_type": "stream",
     "text": [
      "[sum: 21.0, difference: -10.0, product: 85.25, quotient: 0.3548387096774194 \n"
     ]
    }
   ],
   "source": [
    "num_1=float(5.5)\n",
    "num_2=float(15.5)\n",
    "\n",
    "sum=num_1+num_2\n",
    "difference=num_1-num_2\n",
    "product=num_1*num_2\n",
    "quotient=num_1/num_2\n",
    "\n",
    "print(f\"[sum: {sum}, difference: {difference}, product: {product}, quotient: {quotient} \")\n",
    "\n",
    "def arithmetic_ops(a, b):\n",
    "    \"\"\"\n",
    "    Perform arithmetic operations.\n",
    "    Args:\n",
    "        a (float): First number\n",
    "        b (float): Second number\n",
    "    Returns:\n",
    "        dict: Results of arithmetic operations\n",
    "    \"\"\"\n",
    "    pass\n",
    "\n",
    "def test_arithmetic_ops():\n",
    "    result = arithmetic_ops(10, 5)\n",
    "    assert result[\"sum\"] == 15\n",
    "    assert result[\"difference\"] == 5\n",
    "    assert result[\"product\"] == 50\n",
    "    assert result[\"quotient\"] == 2.0"
   ]
  },
  {
   "cell_type": "code",
   "execution_count": 88,
   "metadata": {},
   "outputs": [
    {
     "name": "stdout",
     "output_type": "stream",
     "text": [
      "Woow, you are eligible to vote\n",
      "You are eligible for discount.\n",
      "False\n",
      "True\n",
      "True\n",
      "False\n",
      "False\n",
      "True\n"
     ]
    }
   ],
   "source": [
    "age=18\n",
    "citizen=\"new_zealand\"\n",
    "\n",
    "if age>=18 and citizen==\"new_zealand\":\n",
    "    print(\"Woow, you are eligible to vote\")\n",
    "else:\n",
    "    print(\"Oops, you are not eligible for vote.\")\n",
    "\n",
    "if age<=18 or citizen==\"new_zealand\":\n",
    "    print(\"You are eligible for discount.\")\n",
    "else:\n",
    "    print(\"Oops! you are not eligible for discount.\")\n",
    "#AND\n",
    "a = True\n",
    "b = False\n",
    "\n",
    "result = a and b\n",
    "print(result)  # Output: False\n",
    "\n",
    "# Example with conditions\n",
    "age = 27\n",
    "is_active = True\n",
    "\n",
    "# Both conditions must be true\n",
    "can_apply = (age > 18) and is_active\n",
    "print(can_apply)  # Output: True\n",
    "\n",
    "#OR\n",
    "a = True\n",
    "b = False\n",
    "\n",
    "result = a or b\n",
    "print(result)  # Output: True\n",
    "\n",
    "# Example with conditions\n",
    "age = 16\n",
    "has_permission = False\n",
    "\n",
    "# At least one condition must be true\n",
    "can_apply = (age > 18) or has_permission\n",
    "print(can_apply)  # Output: False\n",
    "\n",
    "\n",
    "#NOT\n",
    "a = True\n",
    "\n",
    "result = not a\n",
    "print(result)  # Output: False\n",
    "\n",
    "# Example with a condition\n",
    "is_member = False\n",
    "\n",
    "# Reverse the condition\n",
    "can_enter = not is_member\n",
    "print(can_enter)  # Output: True\n",
    "\n",
    "\n",
    "\n",
    "def logical_ops(x, y):\n",
    "    \"\"\"\n",
    "    Perform logical operations.\n",
    "    Args:\n",
    "        x (bool): First boolean\n",
    "        y (bool): Second boolean\n",
    "    Returns:\n",
    "        dict: Results of logical operations\n",
    "    \"\"\"\n",
    "    pass\n",
    "\n",
    "def test_logical_ops():\n",
    "    result = logical_ops(True, False)\n",
    "    assert result[\"and\"] == False\n",
    "    assert result[\"or\"] == True\n",
    "    assert result[\"not_x\"] == False"
   ]
  },
  {
   "cell_type": "code",
   "execution_count": 94,
   "metadata": {},
   "outputs": [],
   "source": [
    "def test_bitwise_ops():\n",
    "    result = bitwise_ops(12, 10)\n",
    "    assert result[\"and\"] == 8\n",
    "    assert result[\"or\"] == 14\n",
    "    assert result[\"xor\"] == 6\n",
    "\n",
    "def bitwise_ops(a, b):\n",
    "    \"\"\"\n",
    "    Perform bitwise operations.\n",
    "    Args:\n",
    "        a (int): First integer\n",
    "        b (int): Second integer\n",
    "    Returns:\n",
    "        dict: Results of bitwise operations\n",
    "    \"\"\"\n",
    "a=int(12)\n",
    "b=int(10)\n",
    "\n",
    "#result a&b\n",
    "   # print(result)\n",
    "\n",
    "#result a|b\n",
    "\n",
    " #   print(result)"
   ]
  }
 ],
 "metadata": {
  "kernelspec": {
   "display_name": "base",
   "language": "python",
   "name": "python3"
  },
  "language_info": {
   "codemirror_mode": {
    "name": "ipython",
    "version": 3
   },
   "file_extension": ".py",
   "mimetype": "text/x-python",
   "name": "python",
   "nbconvert_exporter": "python",
   "pygments_lexer": "ipython3",
   "version": "3.12.7"
  }
 },
 "nbformat": 4,
 "nbformat_minor": 2
}
